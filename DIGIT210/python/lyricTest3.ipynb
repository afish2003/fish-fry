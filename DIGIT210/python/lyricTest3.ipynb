{
 "cells": [
  {
   "cell_type": "code",
   "execution_count": 3,
   "id": "7ef81f12-489a-47c5-9baf-f33d9778d2de",
   "metadata": {},
   "outputs": [],
   "source": [
    "#Import Libraries and Download Resources\n",
    "import os\n",
    "import nltk\n",
    "from nltk.tokenize import word_tokenize\n",
    "from nltk.corpus import wordnet as wn"
   ]
  },
  {
   "cell_type": "code",
   "execution_count": 4,
   "id": "2ab4fa0b-31ec-48d5-b1f6-a044943f56ce",
   "metadata": {},
   "outputs": [],
   "source": [
    "#Define Dataset Location:\n",
    "folderPath = 'projectFiles'\n"
   ]
  },
  {
   "cell_type": "code",
   "execution_count": 7,
   "id": "73110a84-2355-4617-9849-492af81f928e",
   "metadata": {},
   "outputs": [],
   "source": [
    "#Analyze Dataset\n",
    "\n",
    "#Set Target Words:\n",
    "targetWords = {\"is\", \"was\", \"we\", \"yeah\"}\n",
    "\n",
    "with open(os.path.join(folderPath, \"wordnet_target_word_ambiguity.txt\"), 'w', encoding='utf-8') as out:\n",
    "    for filename in os.listdir(folderPath):\n",
    "        if filename.endswith(\".txt\"):\n",
    "            with open(os.path.join(folderPath, filename), 'r', encoding='utf-8') as f:\n",
    "                text = f.read()\n",
    "\n",
    "            tokens = word_tokenize(text.lower())\n",
    "\n",
    "            out.write(f\"\\n--- {filename} ---\\n\")\n",
    "\n",
    "            for word in targetWords:\n",
    "                count = tokens.count(word)\n",
    "                syns = wn.synsets(word)\n",
    "                out.write(f\"{word} - Frequency: {count}, Synset meanings: {len(syns)}\\n\")"
   ]
  },
  {
   "cell_type": "code",
   "execution_count": null,
   "id": "9309514a-9538-4545-960c-78080fb9d7b0",
   "metadata": {},
   "outputs": [],
   "source": []
  }
 ],
 "metadata": {
  "kernelspec": {
   "display_name": "Python 3 (ipykernel)",
   "language": "python",
   "name": "python3"
  },
  "language_info": {
   "codemirror_mode": {
    "name": "ipython",
    "version": 3
   },
   "file_extension": ".py",
   "mimetype": "text/x-python",
   "name": "python",
   "nbconvert_exporter": "python",
   "pygments_lexer": "ipython3",
   "version": "3.12.9"
  }
 },
 "nbformat": 4,
 "nbformat_minor": 5
}
