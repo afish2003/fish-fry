{
 "cells": [
  {
   "cell_type": "code",
   "id": "599f4c61-c39b-4b38-8547-5c275550be66",
   "metadata": {
    "ExecuteTime": {
     "end_time": "2025-05-09T17:11:58.155039Z",
     "start_time": "2025-05-09T17:11:58.152042Z"
    }
   },
   "source": [
    "#Import necessary libraries\n",
    "import os\n",
    "import csv\n",
    "from nltk.tokenize import word_tokenize\n",
    "from nltk import pos_tag\n",
    "from nltk.corpus import wordnet as wn"
   ],
   "outputs": [],
   "execution_count": 2
  },
  {
   "cell_type": "code",
   "id": "ed6dcc0d-1329-4225-945b-7be41a9a965f",
   "metadata": {
    "ExecuteTime": {
     "end_time": "2025-05-09T17:12:08.225096Z",
     "start_time": "2025-05-09T17:12:08.223407Z"
    }
   },
   "source": [
    "#Set base directory and threshold for similarity\n",
    "base_dir = \"pipeline/plain-lyrics-output\"\n",
    "threshold = 0.18"
   ],
   "outputs": [],
   "execution_count": 3
  },
  {
   "cell_type": "code",
   "id": "b2e2601b-45ef-4e09-a809-7398b7a56c2f",
   "metadata": {
    "jupyter": {
     "is_executing": true
    },
    "ExecuteTime": {
     "start_time": "2025-05-09T17:12:12.154306Z"
    }
   },
   "source": [
    "# Match POS tags to WordNet format\n",
    "def get_pos(tag):\n",
    "    if tag.startswith('J'):\n",
    "        return wn.ADJ\n",
    "    elif tag.startswith('V'):\n",
    "        return wn.VERB\n",
    "    elif tag.startswith('N'):\n",
    "        return wn.NOUN\n",
    "    elif tag.startswith('R'):\n",
    "        return wn.ADV\n",
    "    return None\n",
    "\n",
    "# Grab the title from the first line of the file\n",
    "def get_title(path):\n",
    "    with open(path, 'r', encoding='utf-8') as f:\n",
    "        first = f.readline().strip()\n",
    "        if first.lower().startswith(\"title:\"):\n",
    "            return first.split(\":\", 1)[1].strip()\n",
    "    return os.path.basename(path)\n",
    "\n",
    "# Pull out the main synsets from lyrics (skips title line)\n",
    "def get_synsets(path):\n",
    "    with open(path, 'r', encoding='utf-8') as f:\n",
    "        lines = f.readlines()[1:]  # skip title line\n",
    "    text = \" \".join(lines).lower()\n",
    "    words = word_tokenize(text)\n",
    "    tagged = pos_tag(words)\n",
    "\n",
    "    syns = []\n",
    "    for word, tag in tagged:\n",
    "        wn_tag = get_pos(tag)\n",
    "        if wn_tag:\n",
    "            s = wn.synsets(word, pos=wn_tag)\n",
    "            if s:\n",
    "                syns.append(s[0])\n",
    "    return syns\n",
    "\n",
    "# Average similarity between two songs\n",
    "def compare(s1, s2):\n",
    "    scores = []\n",
    "    for a in s1:\n",
    "        for b in s2:\n",
    "            sim = a.path_similarity(b)\n",
    "            if sim:\n",
    "                scores.append(sim)\n",
    "    return round(sum(scores) / len(scores), 3) if scores else 0.0\n",
    "\n",
    "# Get all songs for one artist\n",
    "def load_songs(artist):\n",
    "    songs = {}\n",
    "    artist_path = os.path.join(base_dir, artist)\n",
    "    for album in os.listdir(artist_path):\n",
    "        album_path = os.path.join(artist_path, album)\n",
    "        if not os.path.isdir(album_path):\n",
    "            continue  #Skips DS Store\n",
    "        for file in os.listdir(album_path):\n",
    "            if file.endswith(\".txt\"):\n",
    "                full = os.path.join(album_path, file)\n",
    "                title = get_title(full)\n",
    "                label = f\"{artist} - {title}\"\n",
    "                songs[label] = get_synsets(full)\n",
    "    return songs\n",
    "\n",
    "# Get songs\n",
    "greta = load_songs(\"Greta\")\n",
    "zep = load_songs(\"Zeppelin\")\n",
    "\n",
    "# Write similarities above threshold\n",
    "with open(\"song_similarity_network.csv\", \"w\", newline='', encoding=\"utf-8\") as f:\n",
    "    writer = csv.writer(f)\n",
    "    writer.writerow([\"Source\", \"Target\", \"Similarity\"])\n",
    "\n",
    "    for g_label, g_syns in greta.items():\n",
    "        for z_label, z_syns in zep.items():\n",
    "            sim = compare(g_syns, z_syns)\n",
    "            print(f\"{g_label} vs {z_label} = {sim}\")  # Debug: see the score\n",
    "            if sim > threshold:\n",
    "                writer.writerow([g_label, z_label, sim])"
   ],
   "outputs": [
    {
     "name": "stdout",
     "output_type": "stream",
     "text": [
      "Greta - Frozen Light vs Zeppelin - Ramble On = 0.15\n",
      "Greta - Frozen Light vs Zeppelin - Living Loving Maid (She's Just a Woman) = 0.139\n",
      "Greta - Frozen Light vs Zeppelin - Thank You = 0.16\n",
      "Greta - Frozen Light vs Zeppelin - Heartbreaker = 0.153\n",
      "Greta - Frozen Light vs Zeppelin - Whole Lotta Love = 0.146\n",
      "Greta - Frozen Light vs Zeppelin - What Is and What Should Never Be = 0.153\n",
      "Greta - Frozen Light vs Zeppelin - The Lemon Song = 0.14\n",
      "Greta - Frozen Light vs Zeppelin - Moby Dick = 0.132\n",
      "Greta - Frozen Light vs Zeppelin - Bring It On Home = 0.149\n",
      "Greta - Frozen Light vs Zeppelin - Communication Breakdown = 0.157\n",
      "Greta - Frozen Light vs Zeppelin - Black Mountain Side = 0.127\n",
      "Greta - Frozen Light vs Zeppelin - Dazed and Confused = 0.157\n",
      "Greta - Frozen Light vs Zeppelin - Your Time Is Gonna Come = 0.16\n",
      "Greta - Frozen Light vs Zeppelin - Good Times Bad Times = 0.158\n",
      "Greta - Frozen Light vs Zeppelin - Babe I'm Gonna Leave You = 0.156\n",
      "Greta - Frozen Light vs Zeppelin - You Shook Me = 0.143\n",
      "Greta - Frozen Light vs Zeppelin - I Can't Quit You Baby = 0.159\n",
      "Greta - Frozen Light vs Zeppelin - How Many More Times = 0.157\n",
      "Greta - Frozen Light vs Zeppelin - Going to California = 0.141\n",
      "Greta - Frozen Light vs Zeppelin - Four Sticks = 0.139\n",
      "Greta - Frozen Light vs Zeppelin - Stairway to Heaven = 0.147\n",
      "Greta - Frozen Light vs Zeppelin - Misty Mountain Hop = 0.152\n",
      "Greta - Frozen Light vs Zeppelin - Black Dog = 0.147\n",
      "Greta - Frozen Light vs Zeppelin - Rock and Roll = 0.164\n",
      "Greta - Frozen Light vs Zeppelin - The Battle of Evermore = 0.142\n",
      "Greta - Frozen Light vs Zeppelin - When the Levee Breaks = 0.168\n",
      "Greta - Frozen Light vs Zeppelin - Tangerine = 0.148\n",
      "Greta - Frozen Light vs Zeppelin - Gallows Pole = 0.134\n",
      "Greta - Frozen Light vs Zeppelin - Hats Off To (Roy) Harper = 0.149\n",
      "Greta - Frozen Light vs Zeppelin - Since I've Been Loving You = 0.161\n",
      "Greta - Frozen Light vs Zeppelin - Out on the Tiles = 0.157\n",
      "Greta - Frozen Light vs Zeppelin - Immigrant Song = 0.131\n",
      "Greta - Frozen Light vs Zeppelin - Friends = 0.15\n",
      "Greta - Frozen Light vs Zeppelin - Celebration Day = 0.153\n",
      "Greta - Frozen Light vs Zeppelin - That's the Way = 0.15\n",
      "Greta - Frozen Light vs Zeppelin - Bron-Yr-Aur Stomp = 0.15\n",
      "Greta - The Indigo Streak vs Zeppelin - Ramble On = 0.139\n",
      "Greta - The Indigo Streak vs Zeppelin - Living Loving Maid (She's Just a Woman) = 0.13\n"
     ]
    }
   ],
   "execution_count": null
  },
  {
   "cell_type": "code",
   "execution_count": null,
   "id": "a2227ecd-d5d5-4e50-8e38-6bcac66ad4ac",
   "metadata": {},
   "outputs": [],
   "source": []
  }
 ],
 "metadata": {
  "kernelspec": {
   "display_name": "Python 3 (ipykernel)",
   "language": "python",
   "name": "python3"
  },
  "language_info": {
   "codemirror_mode": {
    "name": "ipython",
    "version": 3
   },
   "file_extension": ".py",
   "mimetype": "text/x-python",
   "name": "python",
   "nbconvert_exporter": "python",
   "pygments_lexer": "ipython3",
   "version": "3.12.9"
  }
 },
 "nbformat": 4,
 "nbformat_minor": 5
}
