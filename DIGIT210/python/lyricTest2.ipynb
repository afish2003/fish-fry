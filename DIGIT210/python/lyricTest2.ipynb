{
 "cells": [
  {
   "cell_type": "code",
   "execution_count": 28,
   "id": "a2ab4011-c397-4465-84ed-1437c27d2f6f",
   "metadata": {},
   "outputs": [
    {
     "name": "stderr",
     "output_type": "stream",
     "text": [
      "[nltk_data] Downloading package punkt to\n",
      "[nltk_data]     /Users/alexanderfisher/nltk_data...\n",
      "[nltk_data]   Package punkt is already up-to-date!\n"
     ]
    }
   ],
   "source": [
    "#Import necessary librararies and set directory\n",
    "\n",
    "import os\n",
    "from nltk.tokenize import word_tokenize\n",
    "from nltk.probability import FreqDist\n",
    "import nltk\n",
    "import re\n",
    "\n",
    "nltk.download('punkt')\n",
    "\n",
    "folderPath = \"projectFiles\""
   ]
  },
  {
   "cell_type": "code",
   "execution_count": 30,
   "id": "cd31be8e-50ab-4e77-aa57-300d50e3256f",
   "metadata": {},
   "outputs": [
    {
     "ename": "IndentationError",
     "evalue": "expected an indented block after 'with' statement on line 18 (37289506.py, line 21)",
     "output_type": "error",
     "traceback": [
      "  \u001b[36mCell\u001b[39m\u001b[36m \u001b[39m\u001b[32mIn[30]\u001b[39m\u001b[32m, line 21\u001b[39m\n\u001b[31m    \u001b[39m\u001b[31mfor filename in os.listdir(folderPath):\u001b[39m\n    ^\n\u001b[31mIndentationError\u001b[39m\u001b[31m:\u001b[39m expected an indented block after 'with' statement on line 18\n"
     ]
    }
   ],
   "source": [
    "#Common filler words (To be removed from lyrics before analysis)\n",
    "fillerWords = {\n",
    "    'the', 'is', 'a', 'an', 'and', 'or', 'but', 'for', 'nor', 'yet', 'so',\n",
    "    'in', 'to', 'of', 'on', 'with', 'at', 'by', 'from', 'about', 'as',\n",
    "    'it', 'this', 'that', 'these', 'those', 'he', 'she', 'they', 'we', 'i', 'you',\n",
    "    'what', 'like', 'ooh', 'oh', 'ah', 'la', 'yeah', 'na', 'woo', 'baby', 'uh', 'whoa'\n",
    "}\n",
    "\n",
    "#Regex for Chord Validation\n",
    "chord_regex = re.compile(r\"^[A-G][#b]?(m|maj|min|dim|aug|sus)?\\d*$\", re.IGNORECASE)\n",
    "\n",
    "\n",
    "#Chord Validator Function\n",
    "def isChord(text):\n",
    "    return bool(chord_regex.match(text))\n",
    "#Create Output File\n",
    "output_path = os.path.join(folderPath, \"all_song_analysis.txt\")\n",
    "with open(output_path, 'w', encoding='utf-8') as output_file:\n",
    "    \n",
    "#Process files\n",
    "for filename in os.listdir(folderPath):\n",
    "    if filename.endswith(\".txt\"):\n",
    "        filePath = os.path.join(folderPath, filename)\n",
    "\n",
    "        #Set variables to hold chords and lyrics\n",
    "        chords = []\n",
    "        lyrics = []\n",
    "\n",
    "        # Read the file\n",
    "        with open(filePath, 'r', encoding='utf-8') as f:\n",
    "            lines = f.readlines()\n",
    "\n",
    "        # Loop through each line individually\n",
    "        for line in lines:\n",
    "            # Split line into tokens\n",
    "            lineTokens = line.strip().split()\n",
    "\n",
    "            # Extract chords from current line\n",
    "            lineChords = [token.capitalize() for token in lineTokens if isChord(token)]\n",
    "            chords.extend(lineChords)\n",
    "\n",
    "            # Remove chords, leaving lyrics\n",
    "            lyricTokens = [token for token in lineTokens if not isChord(token)]\n",
    "\n",
    "            # Tokenize lyrics and filter out filler words\n",
    "            tokens = word_tokenize(' '.join(lyricTokens).lower())\n",
    "            filteredTokens = [word for word in tokens if word.isalpha() and word not in fillerWords]\n",
    "            lyrics.extend(filteredTokens)\n",
    "            \n",
    "        # Frequency distributions\n",
    "        chord_fdist = FreqDist(chords)\n",
    "        lyric_fdist = FreqDist(lyrics)\n",
    "        \n",
    "        # Output Results to Terminal\n",
    "        print(f\"\\n--- Analysis of {filename} ---\")\n",
    "        \n",
    "        print(\"\\nMost Common Chords:\")\n",
    "        for chord, count in chord_fdist.most_common(10):\n",
    "            print(f\"{chord}: {count}\")\n",
    "        \n",
    "        print(\"\\nMost Common Words (excluding filler words):\")\n",
    "        for word, count in lyric_fdist.most_common(10):\n",
    "            print(f\"{word}: {count}\")\n",
    "\n",
    "        #Output Results to File\n",
    "        output_file.write(f\"\\n--- Analysis of {filename} ---\\n\\n\")\n",
    "\n",
    "        output_file.write(\"Most Common Chords:\\n\")\n",
    "        for chord, count in chord_fdist.most_common(10):\n",
    "            output_file.write(f\"{chord}: {count}\\n\")\n",
    "\n",
    "        output_file.write(\"\\nMost Common Words (excluding filler words):\\n\")\n",
    "        for word, count in lyric_fdist.most_common(10):\n",
    "            output_file.write(f\"{word}: {count}\\n\")\n",
    "\n"
   ]
  },
  {
   "cell_type": "code",
   "execution_count": null,
   "id": "c7a4018f-2080-4954-a334-4aa54dcfd7ea",
   "metadata": {},
   "outputs": [],
   "source": [
    "\n"
   ]
  },
  {
   "cell_type": "code",
   "execution_count": null,
   "id": "80072dde-b693-48b4-8d0d-3984dcb51dce",
   "metadata": {},
   "outputs": [],
   "source": []
  },
  {
   "cell_type": "code",
   "execution_count": null,
   "id": "644311de-e9f1-45bb-9d83-6b9af11fbeb2",
   "metadata": {},
   "outputs": [],
   "source": []
  },
  {
   "cell_type": "code",
   "execution_count": null,
   "id": "01e767f4-0666-4f89-a7d7-d117706a4e3c",
   "metadata": {},
   "outputs": [],
   "source": []
  },
  {
   "cell_type": "code",
   "execution_count": null,
   "id": "e972868c-fb49-4b5b-ae83-7e71c617b4a4",
   "metadata": {},
   "outputs": [],
   "source": []
  }
 ],
 "metadata": {
  "kernelspec": {
   "display_name": "Python 3 (ipykernel)",
   "language": "python",
   "name": "python3"
  },
  "language_info": {
   "codemirror_mode": {
    "name": "ipython",
    "version": 3
   },
   "file_extension": ".py",
   "mimetype": "text/x-python",
   "name": "python",
   "nbconvert_exporter": "python",
   "pygments_lexer": "ipython3",
   "version": "3.12.9"
  }
 },
 "nbformat": 4,
 "nbformat_minor": 5
}
