{
 "cells": [
  {
   "cell_type": "code",
   "execution_count": 20,
   "id": "a2ab4011-c397-4465-84ed-1437c27d2f6f",
   "metadata": {},
   "outputs": [
    {
     "name": "stderr",
     "output_type": "stream",
     "text": [
      "[nltk_data] Downloading package punkt to\n",
      "[nltk_data]     /Users/alexanderfisher/nltk_data...\n",
      "[nltk_data]   Package punkt is already up-to-date!\n"
     ]
    }
   ],
   "source": [
    "#Import necessary librararies and set directory\n",
    "\n",
    "import os\n",
    "from nltk.tokenize import word_tokenize\n",
    "from nltk.probability import FreqDist\n",
    "import nltk\n",
    "nltk.download('punkt')\n",
    "\n",
    "folder_path = \"projectFiles\""
   ]
  },
  {
   "cell_type": "code",
   "execution_count": 21,
   "id": "cd31be8e-50ab-4e77-aa57-300d50e3256f",
   "metadata": {},
   "outputs": [
    {
     "name": "stdout",
     "output_type": "stream",
     "text": [
      "--- song-8.txt ---\n",
      "Most common words:\n",
      "C: 38\n",
      "D: 36\n",
      "the: 28\n",
      "Em: 16\n",
      "G: 16\n",
      "Bm: 14\n",
      "[: 11\n",
      "]: 11\n",
      "in: 10\n",
      "And: 10\n",
      "\n",
      "--- song-2.txt ---\n",
      "Most common words:\n",
      "D: 36\n",
      "A: 34\n",
      "G: 20\n",
      "F: 18\n",
      "#: 18\n",
      "the: 15\n",
      "I: 13\n",
      "[: 12\n",
      "]: 12\n",
      "my: 11\n",
      "\n",
      "--- song-3.txt ---\n",
      "Most common words:\n",
      "A: 51\n",
      "D: 50\n",
      "ma: 46\n",
      "G: 21\n",
      "'s: 16\n",
      ",: 13\n",
      "[: 11\n",
      "]: 11\n",
      "She: 11\n",
      "the: 10\n",
      "\n",
      "--- song-1.txt ---\n",
      "Most common words:\n",
      "G: 42\n",
      "D: 42\n",
      "A: 41\n",
      "you: 30\n",
      "Oh: 18\n",
      "mama: 18\n",
      "your: 18\n",
      "heart: 14\n",
      "n't: 12\n",
      "I: 12\n",
      "\n",
      "--- song-4.txt ---\n",
      "Most common words:\n",
      "Am: 18\n",
      "I: 15\n",
      "Dm: 12\n",
      "[: 9\n",
      "]: 9\n",
      "F: 9\n",
      "E: 9\n",
      "C: 9\n",
      "been: 8\n",
      "And: 7\n",
      "\n",
      "--- song-5.txt ---\n",
      "Most common words:\n",
      "my: 22\n",
      ",: 18\n",
      "[: 9\n",
      "]: 9\n",
      "E: 8\n",
      "so: 6\n",
      "Oh: 5\n",
      "I: 5\n",
      "the: 4\n",
      "girl: 4\n",
      "\n",
      "--- song-7.txt ---\n",
      "Most common words:\n",
      "#: 128\n",
      "F: 57\n",
      "E: 42\n",
      "G: 32\n",
      "m: 32\n",
      "C: 23\n",
      "B: 17\n",
      "the: 16\n",
      "/C: 16\n",
      "you: 14\n",
      "\n",
      "--- song-6.txt ---\n",
      "Most common words:\n",
      "C: 29\n",
      "the: 22\n",
      "on: 16\n",
      "ledge: 15\n",
      "Bb: 14\n",
      "F: 14\n",
      "Dm: 10\n",
      ",: 10\n",
      "all: 8\n",
      "Gm: 8\n",
      "\n"
     ]
    }
   ],
   "source": [
    "##For directory folder_path find the most common words\n",
    "\n",
    "for filename in os.listdir(folder_path):\n",
    "    if filename.endswith(\".txt\"):\n",
    "        file_path = os.path.join(folder_path, filename)\n",
    "\n",
    "        # Read the file\n",
    "        with open(file_path, 'r', encoding='utf-8') as f:\n",
    "            text = f.read()\n",
    "\n",
    "        # Tokenize\n",
    "        words = word_tokenize(text)\n",
    "\n",
    "        # Frequency Distribution\n",
    "        fdist = FreqDist(words)\n",
    "\n",
    "        # Print results\n",
    "        print(f\"--- {filename} ---\")\n",
    "        print(\"Most common words:\")\n",
    "        for word, count in fdist.most_common(10):\n",
    "            print(f\"{word}: {count}\")\n",
    "        print()\n"
   ]
  },
  {
   "cell_type": "code",
   "execution_count": 16,
   "id": "c7a4018f-2080-4954-a334-4aa54dcfd7ea",
   "metadata": {},
   "outputs": [
    {
     "ename": "AttributeError",
     "evalue": "'list' object has no attribute 'freq'",
     "output_type": "error",
     "traceback": [
      "\u001b[31m---------------------------------------------------------------------------\u001b[39m",
      "\u001b[31mAttributeError\u001b[39m                            Traceback (most recent call last)",
      "\u001b[36mCell\u001b[39m\u001b[36m \u001b[39m\u001b[32mIn[16]\u001b[39m\u001b[32m, line 18\u001b[39m\n\u001b[32m     16\u001b[39m \u001b[38;5;66;03m#Tokenize the text\u001b[39;00m\n\u001b[32m     17\u001b[39m words = word_tokenize(text)\n\u001b[32m---> \u001b[39m\u001b[32m18\u001b[39m \u001b[43mwords\u001b[49m\u001b[43m.\u001b[49m\u001b[43mfreq\u001b[49m(\u001b[32m10\u001b[39m)\n\u001b[32m     21\u001b[39m \u001b[38;5;28mprint\u001b[39m(\u001b[33mf\u001b[39m\u001b[33m\"\u001b[39m\u001b[33m--- \u001b[39m\u001b[38;5;132;01m{\u001b[39;00mfilename\u001b[38;5;132;01m}\u001b[39;00m\u001b[33m ---\u001b[39m\u001b[33m\"\u001b[39m)\n\u001b[32m     22\u001b[39m \u001b[38;5;28mprint\u001b[39m(\u001b[33m\"\u001b[39m\u001b[33mThe most common words are: \u001b[39m\u001b[33m\"\u001b[39m)   \n",
      "\u001b[31mAttributeError\u001b[39m: 'list' object has no attribute 'freq'"
     ]
    }
   ],
   "source": [
    "\n"
   ]
  },
  {
   "cell_type": "code",
   "execution_count": null,
   "id": "80072dde-b693-48b4-8d0d-3984dcb51dce",
   "metadata": {},
   "outputs": [],
   "source": []
  },
  {
   "cell_type": "code",
   "execution_count": null,
   "id": "644311de-e9f1-45bb-9d83-6b9af11fbeb2",
   "metadata": {},
   "outputs": [],
   "source": []
  }
 ],
 "metadata": {
  "kernelspec": {
   "display_name": "Python 3 (ipykernel)",
   "language": "python",
   "name": "python3"
  },
  "language_info": {
   "codemirror_mode": {
    "name": "ipython",
    "version": 3
   },
   "file_extension": ".py",
   "mimetype": "text/x-python",
   "name": "python",
   "nbconvert_exporter": "python",
   "pygments_lexer": "ipython3",
   "version": "3.12.9"
  }
 },
 "nbformat": 4,
 "nbformat_minor": 5
}
